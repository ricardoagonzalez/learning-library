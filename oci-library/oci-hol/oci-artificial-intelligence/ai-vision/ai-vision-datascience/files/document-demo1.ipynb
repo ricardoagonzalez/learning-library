{
 "cells": [
  {
   "cell_type": "markdown",
   "id": "1e5ccacc",
   "metadata": {},
   "source": [
    "# <b>Document AI features demo 1</b>"
   ]
  },
  {
   "cell_type": "markdown",
   "id": "1311bf1a",
   "metadata": {},
   "source": [
    "The AIServiceVisionClient offers the document <b>text detection</b> feature. This notebook aims to provide overall clarity about the feature to the user in terms of requirements, usage and the output of the API.<br>\n",
    "<ul>\n",
    "    <li>The raw output is saved as <code>response_document_demo1.json</code> file. </li>\n",
    "    <li>Detected text is displayed under <b>Display the lines of text detected</b> section.</li>\n",
    "    <li>The user can visualize the bounding boxes for the detected text under <b>View output document with bounding boxes</b> section. </li>\n",
    "</ul>"
   ]
  },
  {
   "cell_type": "markdown",
   "id": "da110e87",
   "metadata": {},
   "source": [
    "### Steps to run the notebook:\n",
    "<details>\n",
    "    <summary>Notebook session setup</summary>\n",
    "    <ol>\n",
    "        <li><font size=\"2\">Installing the OCI Vision SDK</font></li>\n",
    "        <li><font size=\"2\">Installing other dependencies</font></li>\n",
    "        <li><font size=\"2\">Setup sample input documents</font></li>\n",
    "        <li><font size=\"2\">Setup helper .py files</font></li>\n",
    "        <li><font size=\"2\">Create output folder</font></li>\n",
    "    </ol>\n",
    "</details>\n",
    "\n",
    "<details>\n",
    "    <summary>Importing the required modules</summary>\n",
    "</details>\n",
    "\n",
    "<details>\n",
    "    <summary>Setting the input variables</summary>\n",
    "     <font size=\"2\">The user can change the input variables, if necessary. They have been assigned default values.</font>\n",
    "</details>\n",
    "\n",
    "<details>\n",
    "    <summary>Running the main pipeline</summary>\n",
    "    <font size=\"2\">Run all cells to get the output in the <code>output</code> directory. </font><br>\n",
    "</details>"
   ]
  },
  {
   "cell_type": "markdown",
   "id": "a394a33a",
   "metadata": {},
   "source": [
    "### Notebook session setup\n",
    "<details>\n",
    "    <summary>Instructions</summary>\n",
    "    <ul>\n",
    "        <li><font size=\"2\">The user needs to setup only once.</font></li>\n",
    "        <li><font size=\"2\">Uncomment the commented cells and run once to setup.</font></li>\n",
    "        <li><font size=\"2\">Comment back the same cells to avoid running again.</font></li>\n",
    "    </ul>\n",
    "</details>"
   ]
  },
  {
   "cell_type": "markdown",
   "id": "7c206ec5",
   "metadata": {},
   "source": [
    "#### Installing the OCI Python SDK"
   ]
  },
  {
   "cell_type": "code",
   "execution_count": null,
   "id": "f8972c4d",
   "metadata": {},
   "outputs": [],
   "source": [
    "# !pip install oci==2.57.0"
   ]
  },
  {
   "cell_type": "markdown",
   "id": "33400ddc",
   "metadata": {},
   "source": [
    "#### Installing other dependencies"
   ]
  },
  {
   "cell_type": "code",
   "execution_count": null,
   "id": "485046ba",
   "metadata": {},
   "outputs": [],
   "source": [
    "# !pip install matplotlib==3.3.4\n",
    "# !pip install pandas==1.1.5\n",
    "# !pip install fitz==0.0.1.dev2\n",
    "# !pip install pymupdf==1.18.19"
   ]
  },
  {
   "cell_type": "markdown",
   "id": "fb5c7869",
   "metadata": {},
   "source": [
    "#### Setup sample input documents"
   ]
  },
  {
   "cell_type": "code",
   "execution_count": null,
   "id": "b4263cc4",
   "metadata": {},
   "outputs": [],
   "source": [
    "# !wget \"https://objectstorage.us-ashburn-1.oraclecloud.com/n/axhheqi2ofpb/b/vision-demo-notebooks/o/TextDetectionOnePage.pdf\"\n",
    "# !wget \"https://objectstorage.us-ashburn-1.oraclecloud.com/n/axhheqi2ofpb/b/vision-demo-notebooks/o/table.pdf\"\n",
    "# !mkdir data\n",
    "# !mv TextDetectionOnePage.pdf data\n",
    "# !mv table.pdf data"
   ]
  },
  {
   "cell_type": "markdown",
   "id": "2b033654",
   "metadata": {},
   "source": [
    "#### Setup helper .py files"
   ]
  },
  {
   "cell_type": "code",
   "execution_count": null,
   "id": "075af02f",
   "metadata": {},
   "outputs": [],
   "source": [
    "# !wget \"https://objectstorage.us-ashburn-1.oraclecloud.com/n/axhheqi2ofpb/b/vision-demo-notebooks/o/analyze_document_utils.py\"\n",
    "# !mkdir helper\n",
    "# !mv analyze_document_utils.py helper"
   ]
  },
  {
   "cell_type": "markdown",
   "id": "1fb6e30f",
   "metadata": {},
   "source": [
    "#### Create output folder"
   ]
  },
  {
   "cell_type": "code",
   "execution_count": null,
   "id": "04ceaf6d",
   "metadata": {},
   "outputs": [],
   "source": [
    "# !mkdir output"
   ]
  },
  {
   "cell_type": "markdown",
   "id": "17609575",
   "metadata": {},
   "source": [
    "### Imports"
   ]
  },
  {
   "cell_type": "code",
   "execution_count": null,
   "id": "78c253fb",
   "metadata": {},
   "outputs": [],
   "source": [
    "import base64\n",
    "import os\n",
    "import io\n",
    "import oci\n",
    "import json\n",
    "from IPython.display import IFrame\n",
    "import requests\n",
    "from helper.analyze_document_utils import is_url, clean_output"
   ]
  },
  {
   "cell_type": "markdown",
   "id": "607a8b2b",
   "metadata": {},
   "source": [
    "### Set input variables\n",
    "<details>\n",
    "<summary><font size=\"3\">input_path</font></summary>\n",
    "<font size=\"2\">The user can provide the document URL or filepath from the notebook session.</font><br>\n",
    "</details>"
   ]
  },
  {
   "cell_type": "code",
   "execution_count": null,
   "id": "0382f1ea",
   "metadata": {},
   "outputs": [],
   "source": [
    "input_path = \"data/TextDetectionOnePage.pdf\""
   ]
  },
  {
   "cell_type": "markdown",
   "id": "958b50d5",
   "metadata": {},
   "source": [
    "### Authorize user config"
   ]
  },
  {
   "cell_type": "code",
   "execution_count": null,
   "id": "bddb7a24",
   "metadata": {},
   "outputs": [],
   "source": [
    "config = oci.config.from_file('~/.oci/config')"
   ]
  },
  {
   "cell_type": "markdown",
   "id": "713fb3b5",
   "metadata": {},
   "source": [
    "### Get input document"
   ]
  },
  {
   "cell_type": "code",
   "execution_count": null,
   "id": "2fd367c5",
   "metadata": {},
   "outputs": [],
   "source": [
    "if is_url(input_path):\n",
    "    file_content = requests.get(input_path).content\n",
    "    encoded_string = base64.b64encode(file_content)\n",
    "    input_path = 'data/' + os.path.basename(input_path)\n",
    "    open(input_path, 'wb').write(file_content)\n",
    "else:\n",
    "    with open(input_path, \"rb\") as document_file:\n",
    "        encoded_string = base64.b64encode(document_file.read())"
   ]
  },
  {
   "cell_type": "markdown",
   "id": "e952a7ea",
   "metadata": {},
   "source": [
    "### View input document"
   ]
  },
  {
   "cell_type": "code",
   "execution_count": null,
   "id": "e85fdbf4",
   "metadata": {},
   "outputs": [],
   "source": [
    "if is_url(input_path):\n",
    "    display(IFrame('data/' + os.path.basename(input_path), width=600, height=500))\n",
    "else:\n",
    "    display(IFrame(input_path, width=600, height=500))"
   ]
  },
  {
   "cell_type": "markdown",
   "id": "4a63a155",
   "metadata": {},
   "source": [
    "### Create AI service vision client and get response object"
   ]
  },
  {
   "cell_type": "code",
   "execution_count": null,
   "id": "58051f31",
   "metadata": {},
   "outputs": [],
   "source": [
    "ai_service_vision_client = oci.ai_vision.AIServiceVisionClient(config=config)\n",
    "analyze_document_details = oci.ai_vision.models.AnalyzeDocumentDetails()\n",
    "inline_document_details = oci.ai_vision.models.InlineDocumentDetails()\n",
    "\n",
    "text_detection_feature = oci.ai_vision.models.DocumentTextDetectionFeature()\n",
    "text_detection_feature.generate_searchable_pdf = False\n",
    "features = [text_detection_feature]\n",
    "inline_document_details.data = encoded_string.decode('utf-8')\n",
    "analyze_document_details.document = inline_document_details\n",
    "analyze_document_details.features = features\n",
    "\n",
    "res = ai_service_vision_client.analyze_document(analyze_document_details=analyze_document_details)"
   ]
  },
  {
   "cell_type": "markdown",
   "id": "322f0c73",
   "metadata": {},
   "source": [
    "### Clean and save the API response as json"
   ]
  },
  {
   "cell_type": "code",
   "execution_count": null,
   "id": "5cf85cdc",
   "metadata": {},
   "outputs": [],
   "source": [
    "res_json = json.loads(repr(res.data))\n",
    "clean_res = clean_output(res_json)\n",
    "\n",
    "with open('output/response_document_demo1.json', 'w') as fp:\n",
    "    json.dump(clean_res, fp)"
   ]
  },
  {
   "cell_type": "markdown",
   "id": "a03b95c1",
   "metadata": {},
   "source": [
    "### Display the lines of text detected"
   ]
  },
  {
   "cell_type": "code",
   "execution_count": null,
   "id": "5defbe1f",
   "metadata": {},
   "outputs": [],
   "source": [
    "for i, page in enumerate(clean_res['pages']):\n",
    "    print('**************** PAGE NO.', i+1, '****************\\n')\n",
    "    for line in page['lines']:\n",
    "        print(line['text'])\n",
    "    print('\\n')"
   ]
  },
  {
   "cell_type": "markdown",
   "id": "2be8f1d4",
   "metadata": {},
   "source": [
    "### View output document with bounding boxes\n",
    "\n",
    "The user can run the cells below to visualize the bounding boxes over the document. This visualization feature is currently supported for <b>PDF format only.</b>"
   ]
  },
  {
   "cell_type": "markdown",
   "id": "4e12306d",
   "metadata": {},
   "source": [
    "#### Imports"
   ]
  },
  {
   "cell_type": "code",
   "execution_count": null,
   "id": "8b510fd2",
   "metadata": {},
   "outputs": [],
   "source": [
    "from helper.analyze_document_utils import add_text_bounding_boxes_to_pdf\n",
    "import fitz"
   ]
  },
  {
   "cell_type": "markdown",
   "id": "906d5310",
   "metadata": {},
   "source": [
    "#### Add bounding boxes"
   ]
  },
  {
   "cell_type": "code",
   "execution_count": null,
   "id": "6558c78a",
   "metadata": {},
   "outputs": [],
   "source": [
    "doc = fitz.open(input_path)\n",
    "doc = add_text_bounding_boxes_to_pdf(doc, clean_res)\n",
    "output_path = 'output/' + 'output_' + os.path.basename(input_path)\n",
    "doc.save(output_path)"
   ]
  },
  {
   "cell_type": "markdown",
   "id": "153245ab",
   "metadata": {},
   "source": [
    "#### Display output document"
   ]
  },
  {
   "cell_type": "code",
   "execution_count": null,
   "id": "fe9fafee",
   "metadata": {},
   "outputs": [],
   "source": [
    "display(IFrame(output_path, width=600, height=500))"
   ]
  },
  {
   "cell_type": "code",
   "execution_count": null,
   "id": "532e1a9d",
   "metadata": {},
   "outputs": [],
   "source": []
  }
 ],
 "metadata": {
  "kernelspec": {
   "display_name": "Python 3",
   "language": "python",
   "name": "python3"
  },
  "language_info": {
   "codemirror_mode": {
    "name": "ipython",
    "version": 3
   },
   "file_extension": ".py",
   "mimetype": "text/x-python",
   "name": "python",
   "nbconvert_exporter": "python",
   "pygments_lexer": "ipython3",
   "version": "3.6.10"
  }
 },
 "nbformat": 4,
 "nbformat_minor": 5
}
